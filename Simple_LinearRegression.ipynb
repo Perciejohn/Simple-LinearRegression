{
  "nbformat": 4,
  "nbformat_minor": 0,
  "metadata": {
    "colab": {
      "provenance": [],
      "authorship_tag": "ABX9TyNDXgtLrOQkfEDNinSqYD4I",
      "include_colab_link": true
    },
    "kernelspec": {
      "name": "python3",
      "display_name": "Python 3"
    },
    "language_info": {
      "name": "python"
    }
  },
  "cells": [
    {
      "cell_type": "markdown",
      "metadata": {
        "id": "view-in-github",
        "colab_type": "text"
      },
      "source": [
        "<a href=\"https://colab.research.google.com/github/Perciejohn/Simples-LinearRegression/blob/main/Simple_LinearRegression.ipynb\" target=\"_parent\"><img src=\"https://colab.research.google.com/assets/colab-badge.svg\" alt=\"Open In Colab\"/></a>"
      ]
    },
    {
      "cell_type": "code",
      "source": [
        "import numpy as np\n",
        "from math import sqrt\n",
        "\n",
        "class LinearRegression:\n",
        "    def __init__(self, x, y):\n",
        "        self.x = x\n",
        "        self.y = y\n",
        "\n",
        "        self.__correlation_coefficient = self.__correlation()\n",
        "        self.__inclination = self.__incl()\n",
        "        self.__intercept = self.__interc()\n",
        "\n",
        "    def __correlation(self):\n",
        "        covari = np.cov(self.x, self.y, bias=True)[0][1]\n",
        "        variance_x = var(self.x)\n",
        "        variance_y = var(self.y)\n",
        "        return covari / sqrt(variance_x * variance_y)\n",
        "\n",
        "    def __incl(self):\n",
        "        stdx = std(self.x)\n",
        "        stdy = std(self.y)\n",
        "        return self.__correlation_coefficient * (stdy / stdx)\n",
        "\n",
        "    def __interc(self):\n",
        "        avg_x = mean(self.x)\n",
        "        avg_y = mean(self.y)\n",
        "        return avg_y - avg_x * self.__inclination\n",
        "\n",
        "    def forecasting(self, value):\n",
        "        return self.__intercept + (self.__inclination * value)\n",
        "\n"
      ],
      "metadata": {
        "id": "b2eAJ2nru7Wh"
      },
      "execution_count": 17,
      "outputs": []
    },
    {
      "cell_type": "code",
      "source": [
        "x = np.array([1,2,3,4])\n",
        "y = np.array([2,4,6,8])\n",
        "\n",
        "lr = LinearRegression(x,y)\n",
        "look = lr.forecasting(6)\n",
        "\n",
        "print(look)"
      ],
      "metadata": {
        "colab": {
          "base_uri": "https://localhost:8080/"
        },
        "id": "qnu19Mln8a9J",
        "outputId": "097a2e5c-57cf-424d-e787-da5a79ed606e"
      },
      "execution_count": 19,
      "outputs": [
        {
          "output_type": "stream",
          "name": "stdout",
          "text": [
            "12.0\n"
          ]
        }
      ]
    }
  ]
}